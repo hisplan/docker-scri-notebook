{
 "cells": [
  {
   "cell_type": "code",
   "execution_count": 1,
   "id": "4783a6b6",
   "metadata": {},
   "outputs": [],
   "source": [
    "library(BiocManager)"
   ]
  },
  {
   "cell_type": "code",
   "execution_count": 2,
   "id": "c021232e",
   "metadata": {},
   "outputs": [],
   "source": [
    "suppressPackageStartupMessages(\n",
    "    library(SingleCellExperiment)\n",
    ")"
   ]
  },
  {
   "cell_type": "code",
   "execution_count": 3,
   "id": "851f3154",
   "metadata": {},
   "outputs": [
    {
     "data": {
      "text/plain": [
       "R version 4.1.0 (2021-05-18)\n",
       "Platform: x86_64-conda-linux-gnu (64-bit)\n",
       "Running under: Ubuntu 20.04.2 LTS\n",
       "\n",
       "Matrix products: default\n",
       "BLAS/LAPACK: /opt/conda/lib/libopenblasp-r0.3.17.so\n",
       "\n",
       "locale:\n",
       " [1] LC_CTYPE=en_US.UTF-8       LC_NUMERIC=C              \n",
       " [3] LC_TIME=en_US.UTF-8        LC_COLLATE=en_US.UTF-8    \n",
       " [5] LC_MONETARY=en_US.UTF-8    LC_MESSAGES=en_US.UTF-8   \n",
       " [7] LC_PAPER=en_US.UTF-8       LC_NAME=C                 \n",
       " [9] LC_ADDRESS=C               LC_TELEPHONE=C            \n",
       "[11] LC_MEASUREMENT=en_US.UTF-8 LC_IDENTIFICATION=C       \n",
       "\n",
       "attached base packages:\n",
       "[1] parallel  stats4    stats     graphics  grDevices utils     datasets \n",
       "[8] methods   base     \n",
       "\n",
       "other attached packages:\n",
       " [1] SingleCellExperiment_1.14.1 SummarizedExperiment_1.22.0\n",
       " [3] Biobase_2.52.0              GenomicRanges_1.44.0       \n",
       " [5] GenomeInfoDb_1.28.1         IRanges_2.26.0             \n",
       " [7] S4Vectors_0.30.0            BiocGenerics_0.38.0        \n",
       " [9] MatrixGenerics_1.4.2        matrixStats_0.60.0         \n",
       "[11] BiocManager_1.30.16        \n",
       "\n",
       "loaded via a namespace (and not attached):\n",
       " [1] pillar_1.6.2           compiler_4.1.0         XVector_0.32.0        \n",
       " [4] base64enc_0.1-3        bitops_1.0-7           tools_4.1.0           \n",
       " [7] zlibbioc_1.38.0        digest_0.6.27          uuid_0.1-4            \n",
       "[10] jsonlite_1.7.2         evaluate_0.14          lifecycle_1.0.0       \n",
       "[13] lattice_0.20-44        rlang_0.4.11           Matrix_1.3-4          \n",
       "[16] DelayedArray_0.18.0    IRdisplay_1.0          IRkernel_1.2          \n",
       "[19] GenomeInfoDbData_1.2.6 repr_1.1.3             vctrs_0.3.8           \n",
       "[22] grid_4.1.0             fansi_0.5.0            pbdZMQ_0.3-5          \n",
       "[25] ellipsis_0.3.2         htmltools_0.5.1.1      utf8_1.2.2            \n",
       "[28] RCurl_1.98-1.3         crayon_1.4.1          "
      ]
     },
     "metadata": {},
     "output_type": "display_data"
    }
   ],
   "source": [
    "sessionInfo()"
   ]
  },
  {
   "cell_type": "code",
   "execution_count": null,
   "id": "fd63bac6",
   "metadata": {},
   "outputs": [],
   "source": []
  }
 ],
 "metadata": {
  "kernelspec": {
   "display_name": "R",
   "language": "R",
   "name": "ir"
  },
  "language_info": {
   "codemirror_mode": "r",
   "file_extension": ".r",
   "mimetype": "text/x-r-source",
   "name": "R",
   "pygments_lexer": "r",
   "version": "4.1.0"
  }
 },
 "nbformat": 4,
 "nbformat_minor": 5
}
