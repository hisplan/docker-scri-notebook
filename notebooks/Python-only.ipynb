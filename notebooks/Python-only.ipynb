{
 "cells": [
  {
   "cell_type": "code",
   "execution_count": 1,
   "id": "2b0c4673",
   "metadata": {},
   "outputs": [
    {
     "name": "stdout",
     "output_type": "stream",
     "text": [
      "Python 3.9.6\r\n"
     ]
    }
   ],
   "source": [
    "!python --version"
   ]
  },
  {
   "cell_type": "code",
   "execution_count": 2,
   "id": "6b94ca6b",
   "metadata": {},
   "outputs": [],
   "source": [
    "import scanpy as sc"
   ]
  },
  {
   "cell_type": "code",
   "execution_count": 3,
   "id": "c1ed0588",
   "metadata": {},
   "outputs": [
    {
     "name": "stdout",
     "output_type": "stream",
     "text": [
      "scanpy==1.8.1 anndata==0.7.6 umap==0.5.1 numpy==1.21.1 scipy==1.7.1 pandas==1.3.1 scikit-learn==0.24.2 statsmodels==0.12.2 python-igraph==0.9.6 pynndescent==0.5.4\n"
     ]
    }
   ],
   "source": [
    "sc.logging.print_header()"
   ]
  },
  {
   "cell_type": "code",
   "execution_count": 4,
   "id": "3cd495cb",
   "metadata": {
    "scrolled": false
   },
   "outputs": [],
   "source": [
    "pkg = \"scanpy==1.8.1 anndata==0.7.6 umap==0.5.1 numpy==1.21.1 scipy==1.7.1 pandas==1.3.1 scikit-learn==0.24.2 statsmodels==0.12.2 python-igraph==0.9.6 pynndescent==0.5.4\".split()"
   ]
  },
  {
   "cell_type": "code",
   "execution_count": 5,
   "id": "a9767245",
   "metadata": {},
   "outputs": [
    {
     "name": "stdout",
     "output_type": "stream",
     "text": [
      "scanpy==1.8.1\n",
      "anndata==0.7.6\n",
      "umap==0.5.1\n",
      "numpy==1.21.1\n",
      "scipy==1.7.1\n",
      "pandas==1.3.1\n",
      "scikit-learn==0.24.2\n",
      "statsmodels==0.12.2\n",
      "python-igraph==0.9.6\n",
      "pynndescent==0.5.4\n"
     ]
    }
   ],
   "source": [
    "for p in pkg:\n",
    "    print(p)"
   ]
  },
  {
   "cell_type": "code",
   "execution_count": 6,
   "id": "f68e2414",
   "metadata": {},
   "outputs": [
    {
     "name": "stdout",
     "output_type": "stream",
     "text": [
      "papermill==2.3.3\r\n"
     ]
    }
   ],
   "source": [
    "!pip freeze | grep papermill"
   ]
  },
  {
   "cell_type": "code",
   "execution_count": 7,
   "id": "8a155534",
   "metadata": {},
   "outputs": [
    {
     "name": "stdout",
     "output_type": "stream",
     "text": [
      "rpy2 @ file:///home/conda/feedstock_root/build_artifacts/rpy2_1622826795397/work\r\n"
     ]
    }
   ],
   "source": [
    "!pip freeze | grep rpy2"
   ]
  },
  {
   "cell_type": "code",
   "execution_count": null,
   "id": "aa6a4c42",
   "metadata": {},
   "outputs": [],
   "source": []
  }
 ],
 "metadata": {
  "kernelspec": {
   "display_name": "Python 3 (ipykernel)",
   "language": "python",
   "name": "python3"
  },
  "language_info": {
   "codemirror_mode": {
    "name": "ipython",
    "version": 3
   },
   "file_extension": ".py",
   "mimetype": "text/x-python",
   "name": "python",
   "nbconvert_exporter": "python",
   "pygments_lexer": "ipython3",
   "version": "3.9.6"
  }
 },
 "nbformat": 4,
 "nbformat_minor": 5
}
