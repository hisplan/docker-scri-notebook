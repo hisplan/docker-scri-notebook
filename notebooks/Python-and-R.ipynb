{
 "cells": [
  {
   "cell_type": "code",
   "execution_count": 1,
   "id": "3edae8f8",
   "metadata": {},
   "outputs": [],
   "source": [
    "import anndata2ri\n",
    "anndata2ri.activate()\n",
    "%load_ext rpy2.ipython"
   ]
  },
  {
   "cell_type": "code",
   "execution_count": 2,
   "id": "64990e3d",
   "metadata": {},
   "outputs": [],
   "source": [
    "data = \"I'm from Python.\""
   ]
  },
  {
   "cell_type": "code",
   "execution_count": 3,
   "id": "ac737fca",
   "metadata": {},
   "outputs": [
    {
     "name": "stdout",
     "output_type": "stream",
     "text": [
      "I'm from Python.\n"
     ]
    }
   ],
   "source": [
    "print(data)"
   ]
  },
  {
   "cell_type": "code",
   "execution_count": 4,
   "id": "710c6580",
   "metadata": {},
   "outputs": [],
   "source": [
    "%R -i data"
   ]
  },
  {
   "cell_type": "code",
   "execution_count": 5,
   "id": "491bfa61",
   "metadata": {},
   "outputs": [
    {
     "name": "stdout",
     "output_type": "stream",
     "text": [
      "[1] \"I'm R.\"\n",
      "[1] \"I'm from Python.\"\n"
     ]
    }
   ],
   "source": [
    "%%R\n",
    "\n",
    "print(\"I'm R.\")\n",
    "print(data)"
   ]
  },
  {
   "cell_type": "code",
   "execution_count": null,
   "id": "e2be1bf8",
   "metadata": {},
   "outputs": [],
   "source": []
  }
 ],
 "metadata": {
  "kernelspec": {
   "display_name": "Python 3 (ipykernel)",
   "language": "python",
   "name": "python3"
  },
  "language_info": {
   "codemirror_mode": {
    "name": "ipython",
    "version": 3
   },
   "file_extension": ".py",
   "mimetype": "text/x-python",
   "name": "python",
   "nbconvert_exporter": "python",
   "pygments_lexer": "ipython3",
   "version": "3.9.6"
  }
 },
 "nbformat": 4,
 "nbformat_minor": 5
}
