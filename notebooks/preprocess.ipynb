{
 "cells": [
  {
   "cell_type": "code",
   "execution_count": 1,
   "metadata": {},
   "outputs": [],
   "source": [
    "import scanpy as sc\n",
    "import warnings"
   ]
  },
  {
   "cell_type": "code",
   "execution_count": 2,
   "metadata": {},
   "outputs": [],
   "source": [
    "warnings.simplefilter(action=\"ignore\", category=FutureWarning)"
   ]
  },
  {
   "cell_type": "code",
   "execution_count": 3,
   "metadata": {},
   "outputs": [
    {
     "name": "stdout",
     "output_type": "stream",
     "text": [
      "scanpy==1.6.0 anndata==0.7.4 umap==0.4.6 numpy==1.19.2 scipy==1.5.2 pandas==1.1.3 scikit-learn==0.23.2 statsmodels==0.12.0 python-igraph==0.8.3 leidenalg==0.8.2\n"
     ]
    }
   ],
   "source": [
    "sc.settings.verbosity = 3             # verbosity: errors (0), warnings (1), info (2), hints (3)\n",
    "sc.logging.print_header()\n",
    "sc.settings.set_figure_params(dpi=80, facecolor='white')"
   ]
  },
  {
   "cell_type": "code",
   "execution_count": 4,
   "metadata": {
    "tags": [
     "parameters"
    ]
   },
   "outputs": [],
   "source": [
    "path_matrix = \"/data/filtered_feature_bc_matrix/\""
   ]
  },
  {
   "cell_type": "code",
   "execution_count": 5,
   "metadata": {},
   "outputs": [
    {
     "name": "stdout",
     "output_type": "stream",
     "text": [
      "--> This might be very slow. Consider passing `cache=True`, which enables much faster reading from a cache file.\n"
     ]
    }
   ],
   "source": [
    "adata = sc.read_10x_mtx(path_matrix)"
   ]
  },
  {
   "cell_type": "code",
   "execution_count": 6,
   "metadata": {},
   "outputs": [
    {
     "data": {
      "text/plain": [
       "AnnData object with n_obs × n_vars = 1222 × 33538\n",
       "    var: 'gene_ids', 'feature_types'"
      ]
     },
     "execution_count": 6,
     "metadata": {},
     "output_type": "execute_result"
    }
   ],
   "source": [
    "adata"
   ]
  },
  {
   "cell_type": "code",
   "execution_count": 7,
   "metadata": {},
   "outputs": [],
   "source": [
    "adata.var['mt'] = adata.var_names.str.startswith('MT-')"
   ]
  },
  {
   "cell_type": "code",
   "execution_count": 8,
   "metadata": {},
   "outputs": [],
   "source": [
    "sc.pp.calculate_qc_metrics(adata, qc_vars=['mt'], percent_top=None, log1p=False, inplace=True)"
   ]
  },
  {
   "cell_type": "code",
   "execution_count": 9,
   "metadata": {},
   "outputs": [
    {
     "data": {
      "text/html": [
       "<div>\n",
       "<style scoped>\n",
       "    .dataframe tbody tr th:only-of-type {\n",
       "        vertical-align: middle;\n",
       "    }\n",
       "\n",
       "    .dataframe tbody tr th {\n",
       "        vertical-align: top;\n",
       "    }\n",
       "\n",
       "    .dataframe thead th {\n",
       "        text-align: right;\n",
       "    }\n",
       "</style>\n",
       "<table border=\"1\" class=\"dataframe\">\n",
       "  <thead>\n",
       "    <tr style=\"text-align: right;\">\n",
       "      <th></th>\n",
       "      <th>n_genes_by_counts</th>\n",
       "      <th>total_counts</th>\n",
       "      <th>total_counts_mt</th>\n",
       "      <th>pct_counts_mt</th>\n",
       "    </tr>\n",
       "  </thead>\n",
       "  <tbody>\n",
       "    <tr>\n",
       "      <th>AAACCCAAGGAGAGTA-1</th>\n",
       "      <td>2620</td>\n",
       "      <td>8288.0</td>\n",
       "      <td>893.0</td>\n",
       "      <td>10.774614</td>\n",
       "    </tr>\n",
       "    <tr>\n",
       "      <th>AAACGCTTCAGCCCAG-1</th>\n",
       "      <td>1808</td>\n",
       "      <td>5512.0</td>\n",
       "      <td>439.0</td>\n",
       "      <td>7.964441</td>\n",
       "    </tr>\n",
       "    <tr>\n",
       "      <th>AAAGAACAGACGACTG-1</th>\n",
       "      <td>1562</td>\n",
       "      <td>4283.0</td>\n",
       "      <td>265.0</td>\n",
       "      <td>6.187252</td>\n",
       "    </tr>\n",
       "    <tr>\n",
       "      <th>AAAGAACCAATGGCAG-1</th>\n",
       "      <td>1225</td>\n",
       "      <td>2754.0</td>\n",
       "      <td>165.0</td>\n",
       "      <td>5.991285</td>\n",
       "    </tr>\n",
       "    <tr>\n",
       "      <th>AAAGAACGTCTGCAAT-1</th>\n",
       "      <td>1831</td>\n",
       "      <td>6592.0</td>\n",
       "      <td>436.0</td>\n",
       "      <td>6.614078</td>\n",
       "    </tr>\n",
       "    <tr>\n",
       "      <th>...</th>\n",
       "      <td>...</td>\n",
       "      <td>...</td>\n",
       "      <td>...</td>\n",
       "      <td>...</td>\n",
       "    </tr>\n",
       "    <tr>\n",
       "      <th>TTTCCTCTCTCTTGCG-1</th>\n",
       "      <td>3106</td>\n",
       "      <td>11714.0</td>\n",
       "      <td>1340.0</td>\n",
       "      <td>11.439303</td>\n",
       "    </tr>\n",
       "    <tr>\n",
       "      <th>TTTGATCTCTTTGGAG-1</th>\n",
       "      <td>1893</td>\n",
       "      <td>7329.0</td>\n",
       "      <td>647.0</td>\n",
       "      <td>8.827944</td>\n",
       "    </tr>\n",
       "    <tr>\n",
       "      <th>TTTGGTTAGTAACCTC-1</th>\n",
       "      <td>1352</td>\n",
       "      <td>4492.0</td>\n",
       "      <td>384.0</td>\n",
       "      <td>8.548531</td>\n",
       "    </tr>\n",
       "    <tr>\n",
       "      <th>TTTGGTTGTAGAATAC-1</th>\n",
       "      <td>2818</td>\n",
       "      <td>9741.0</td>\n",
       "      <td>1142.0</td>\n",
       "      <td>11.723642</td>\n",
       "    </tr>\n",
       "    <tr>\n",
       "      <th>TTTGTTGCAATTAGGA-1</th>\n",
       "      <td>1444</td>\n",
       "      <td>4426.0</td>\n",
       "      <td>373.0</td>\n",
       "      <td>8.427474</td>\n",
       "    </tr>\n",
       "  </tbody>\n",
       "</table>\n",
       "<p>1222 rows × 4 columns</p>\n",
       "</div>"
      ],
      "text/plain": [
       "                    n_genes_by_counts  total_counts  total_counts_mt  \\\n",
       "AAACCCAAGGAGAGTA-1               2620        8288.0            893.0   \n",
       "AAACGCTTCAGCCCAG-1               1808        5512.0            439.0   \n",
       "AAAGAACAGACGACTG-1               1562        4283.0            265.0   \n",
       "AAAGAACCAATGGCAG-1               1225        2754.0            165.0   \n",
       "AAAGAACGTCTGCAAT-1               1831        6592.0            436.0   \n",
       "...                               ...           ...              ...   \n",
       "TTTCCTCTCTCTTGCG-1               3106       11714.0           1340.0   \n",
       "TTTGATCTCTTTGGAG-1               1893        7329.0            647.0   \n",
       "TTTGGTTAGTAACCTC-1               1352        4492.0            384.0   \n",
       "TTTGGTTGTAGAATAC-1               2818        9741.0           1142.0   \n",
       "TTTGTTGCAATTAGGA-1               1444        4426.0            373.0   \n",
       "\n",
       "                    pct_counts_mt  \n",
       "AAACCCAAGGAGAGTA-1      10.774614  \n",
       "AAACGCTTCAGCCCAG-1       7.964441  \n",
       "AAAGAACAGACGACTG-1       6.187252  \n",
       "AAAGAACCAATGGCAG-1       5.991285  \n",
       "AAAGAACGTCTGCAAT-1       6.614078  \n",
       "...                           ...  \n",
       "TTTCCTCTCTCTTGCG-1      11.439303  \n",
       "TTTGATCTCTTTGGAG-1       8.827944  \n",
       "TTTGGTTAGTAACCTC-1       8.548531  \n",
       "TTTGGTTGTAGAATAC-1      11.723642  \n",
       "TTTGTTGCAATTAGGA-1       8.427474  \n",
       "\n",
       "[1222 rows x 4 columns]"
      ]
     },
     "execution_count": 9,
     "metadata": {},
     "output_type": "execute_result"
    }
   ],
   "source": [
    "adata.obs"
   ]
  },
  {
   "cell_type": "code",
   "execution_count": 10,
   "metadata": {},
   "outputs": [
    {
     "data": {
      "text/html": [
       "<div>\n",
       "<style scoped>\n",
       "    .dataframe tbody tr th:only-of-type {\n",
       "        vertical-align: middle;\n",
       "    }\n",
       "\n",
       "    .dataframe tbody tr th {\n",
       "        vertical-align: top;\n",
       "    }\n",
       "\n",
       "    .dataframe thead th {\n",
       "        text-align: right;\n",
       "    }\n",
       "</style>\n",
       "<table border=\"1\" class=\"dataframe\">\n",
       "  <thead>\n",
       "    <tr style=\"text-align: right;\">\n",
       "      <th></th>\n",
       "      <th>gene_ids</th>\n",
       "      <th>feature_types</th>\n",
       "      <th>mt</th>\n",
       "      <th>n_cells_by_counts</th>\n",
       "      <th>mean_counts</th>\n",
       "      <th>pct_dropout_by_counts</th>\n",
       "      <th>total_counts</th>\n",
       "    </tr>\n",
       "  </thead>\n",
       "  <tbody>\n",
       "    <tr>\n",
       "      <th>MIR1302-2HG</th>\n",
       "      <td>ENSG00000243485</td>\n",
       "      <td>Gene Expression</td>\n",
       "      <td>False</td>\n",
       "      <td>0</td>\n",
       "      <td>0.000000</td>\n",
       "      <td>100.000000</td>\n",
       "      <td>0.0</td>\n",
       "    </tr>\n",
       "    <tr>\n",
       "      <th>FAM138A</th>\n",
       "      <td>ENSG00000237613</td>\n",
       "      <td>Gene Expression</td>\n",
       "      <td>False</td>\n",
       "      <td>0</td>\n",
       "      <td>0.000000</td>\n",
       "      <td>100.000000</td>\n",
       "      <td>0.0</td>\n",
       "    </tr>\n",
       "    <tr>\n",
       "      <th>OR4F5</th>\n",
       "      <td>ENSG00000186092</td>\n",
       "      <td>Gene Expression</td>\n",
       "      <td>False</td>\n",
       "      <td>0</td>\n",
       "      <td>0.000000</td>\n",
       "      <td>100.000000</td>\n",
       "      <td>0.0</td>\n",
       "    </tr>\n",
       "    <tr>\n",
       "      <th>AL627309.1</th>\n",
       "      <td>ENSG00000238009</td>\n",
       "      <td>Gene Expression</td>\n",
       "      <td>False</td>\n",
       "      <td>6</td>\n",
       "      <td>0.004910</td>\n",
       "      <td>99.509002</td>\n",
       "      <td>6.0</td>\n",
       "    </tr>\n",
       "    <tr>\n",
       "      <th>AL627309.3</th>\n",
       "      <td>ENSG00000239945</td>\n",
       "      <td>Gene Expression</td>\n",
       "      <td>False</td>\n",
       "      <td>1</td>\n",
       "      <td>0.000818</td>\n",
       "      <td>99.918167</td>\n",
       "      <td>1.0</td>\n",
       "    </tr>\n",
       "    <tr>\n",
       "      <th>...</th>\n",
       "      <td>...</td>\n",
       "      <td>...</td>\n",
       "      <td>...</td>\n",
       "      <td>...</td>\n",
       "      <td>...</td>\n",
       "      <td>...</td>\n",
       "      <td>...</td>\n",
       "    </tr>\n",
       "    <tr>\n",
       "      <th>AC233755.2</th>\n",
       "      <td>ENSG00000277856</td>\n",
       "      <td>Gene Expression</td>\n",
       "      <td>False</td>\n",
       "      <td>0</td>\n",
       "      <td>0.000000</td>\n",
       "      <td>100.000000</td>\n",
       "      <td>0.0</td>\n",
       "    </tr>\n",
       "    <tr>\n",
       "      <th>AC233755.1</th>\n",
       "      <td>ENSG00000275063</td>\n",
       "      <td>Gene Expression</td>\n",
       "      <td>False</td>\n",
       "      <td>0</td>\n",
       "      <td>0.000000</td>\n",
       "      <td>100.000000</td>\n",
       "      <td>0.0</td>\n",
       "    </tr>\n",
       "    <tr>\n",
       "      <th>AC240274.1</th>\n",
       "      <td>ENSG00000271254</td>\n",
       "      <td>Gene Expression</td>\n",
       "      <td>False</td>\n",
       "      <td>10</td>\n",
       "      <td>0.008183</td>\n",
       "      <td>99.181669</td>\n",
       "      <td>10.0</td>\n",
       "    </tr>\n",
       "    <tr>\n",
       "      <th>AC213203.1</th>\n",
       "      <td>ENSG00000277475</td>\n",
       "      <td>Gene Expression</td>\n",
       "      <td>False</td>\n",
       "      <td>0</td>\n",
       "      <td>0.000000</td>\n",
       "      <td>100.000000</td>\n",
       "      <td>0.0</td>\n",
       "    </tr>\n",
       "    <tr>\n",
       "      <th>FAM231C</th>\n",
       "      <td>ENSG00000268674</td>\n",
       "      <td>Gene Expression</td>\n",
       "      <td>False</td>\n",
       "      <td>0</td>\n",
       "      <td>0.000000</td>\n",
       "      <td>100.000000</td>\n",
       "      <td>0.0</td>\n",
       "    </tr>\n",
       "  </tbody>\n",
       "</table>\n",
       "<p>33538 rows × 7 columns</p>\n",
       "</div>"
      ],
      "text/plain": [
       "                    gene_ids    feature_types     mt  n_cells_by_counts  \\\n",
       "MIR1302-2HG  ENSG00000243485  Gene Expression  False                  0   \n",
       "FAM138A      ENSG00000237613  Gene Expression  False                  0   \n",
       "OR4F5        ENSG00000186092  Gene Expression  False                  0   \n",
       "AL627309.1   ENSG00000238009  Gene Expression  False                  6   \n",
       "AL627309.3   ENSG00000239945  Gene Expression  False                  1   \n",
       "...                      ...              ...    ...                ...   \n",
       "AC233755.2   ENSG00000277856  Gene Expression  False                  0   \n",
       "AC233755.1   ENSG00000275063  Gene Expression  False                  0   \n",
       "AC240274.1   ENSG00000271254  Gene Expression  False                 10   \n",
       "AC213203.1   ENSG00000277475  Gene Expression  False                  0   \n",
       "FAM231C      ENSG00000268674  Gene Expression  False                  0   \n",
       "\n",
       "             mean_counts  pct_dropout_by_counts  total_counts  \n",
       "MIR1302-2HG     0.000000             100.000000           0.0  \n",
       "FAM138A         0.000000             100.000000           0.0  \n",
       "OR4F5           0.000000             100.000000           0.0  \n",
       "AL627309.1      0.004910              99.509002           6.0  \n",
       "AL627309.3      0.000818              99.918167           1.0  \n",
       "...                  ...                    ...           ...  \n",
       "AC233755.2      0.000000             100.000000           0.0  \n",
       "AC233755.1      0.000000             100.000000           0.0  \n",
       "AC240274.1      0.008183              99.181669          10.0  \n",
       "AC213203.1      0.000000             100.000000           0.0  \n",
       "FAM231C         0.000000             100.000000           0.0  \n",
       "\n",
       "[33538 rows x 7 columns]"
      ]
     },
     "execution_count": 10,
     "metadata": {},
     "output_type": "execute_result"
    }
   ],
   "source": [
    "adata.var"
   ]
  },
  {
   "cell_type": "code",
   "execution_count": 11,
   "metadata": {},
   "outputs": [
    {
     "name": "stderr",
     "output_type": "stream",
     "text": [
      "... storing 'feature_types' as categorical\n"
     ]
    }
   ],
   "source": [
    "adata.write(\"preprocessed.h5ad\")"
   ]
  },
  {
   "cell_type": "code",
   "execution_count": null,
   "metadata": {},
   "outputs": [],
   "source": []
  }
 ],
 "metadata": {
  "kernelspec": {
   "display_name": "Python 3",
   "language": "python",
   "name": "python3"
  },
  "language_info": {
   "codemirror_mode": {
    "name": "ipython",
    "version": 3
   },
   "file_extension": ".py",
   "mimetype": "text/x-python",
   "name": "python",
   "nbconvert_exporter": "python",
   "pygments_lexer": "ipython3",
   "version": "3.8.6"
  }
 },
 "nbformat": 4,
 "nbformat_minor": 4
}
